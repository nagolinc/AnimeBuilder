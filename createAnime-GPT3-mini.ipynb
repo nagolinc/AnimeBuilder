{
 "cells": [
  {
   "cell_type": "code",
   "execution_count": null,
   "id": "90eb5bf4",
   "metadata": {
    "scrolled": true
   },
   "outputs": [],
   "source": [
    "import ipywidgets as widgets\n",
    "from IPython.display import clear_output"
   ]
  },
  {
   "cell_type": "code",
   "execution_count": null,
   "id": "319b1d1e",
   "metadata": {
    "scrolled": true
   },
   "outputs": [],
   "source": [
    "import time"
   ]
  },
  {
   "cell_type": "code",
   "execution_count": null,
   "id": "ffbd42d3",
   "metadata": {},
   "outputs": [],
   "source": [
    "import os\n",
    "os.environ['TRANSFORMERS_CACHE'] = 'e:/img/hf'\n",
    "\n",
    "%env HUGGINGFACE_HUB_CACHE=e:/img/hf\n",
    "%env TRANSFORMERS_CACHE=e:/img/hf\n",
    "\n",
    "print(os.environ['HUGGINGFACE_HUB_CACHE'])\n",
    "\n",
    "\n"
   ]
  },
  {
   "cell_type": "code",
   "execution_count": null,
   "id": "20a3f483",
   "metadata": {
    "scrolled": true
   },
   "outputs": [],
   "source": [
    "import animeCreator\n",
    "from animeCreator import AnimeBuilder"
   ]
  },
  {
   "cell_type": "code",
   "execution_count": null,
   "id": "c1dd0389",
   "metadata": {},
   "outputs": [],
   "source": [
    "def playAnime(w,supressStd=False):\n",
    "\n",
    "    music = widgets.Output()    \n",
    "    image = widgets.Output()\n",
    "    speech = widgets.Output()\n",
    "    #std = widgets.Output()\n",
    "    debug = widgets.Output()\n",
    "\n",
    "\n",
    "    display(debug)\n",
    "    display(image)\n",
    "    display(speech)\n",
    "    display(music)\n",
    "    #display(std)\n",
    "\n",
    "    lastMusic=None\n",
    "\n",
    "    #with std:\n",
    "    if True:\n",
    "        for output in w:\n",
    "            if supressStd==True:\n",
    "                std.clear_output()#this clears the widgets too :/\n",
    "            if 'music' in output:\n",
    "                if lastMusic is not None:\n",
    "                    print(\"stopping\")\n",
    "                    lastMusic.close()\n",
    "                    \n",
    "                music.clear_output()\n",
    "                #with music:\n",
    "                lastMusic=output['music']                \n",
    "                display(lastMusic)\n",
    "            if 'image' in output:\n",
    "                image.clear_output()\n",
    "                with image:\n",
    "                    display(output['image'])\n",
    "            if 'caption' in output:\n",
    "                speech.clear_output()\n",
    "                with speech:\n",
    "                    print(output['caption'])\n",
    "                time.sleep(output['duration'])\n",
    "            if 'speech' in output:\n",
    "                speech.clear_output()\n",
    "                with speech:\n",
    "                    print(output['name'],\":\",output['dialogue'])\n",
    "                    display(output['speech'])                \n",
    "                time.sleep(output['duration'])\n",
    "            if 'debug' in output:\n",
    "                debug.clear_output()\n",
    "                with debug:\n",
    "                    print(output['debug'])\n",
    "                    \n",
    "        if lastMusic is not None:\n",
    "            print(\"stopping\")\n",
    "            lastMusic.close()\n"
   ]
  },
  {
   "cell_type": "code",
   "execution_count": null,
   "id": "9180f8ee",
   "metadata": {},
   "outputs": [],
   "source": [
    "import openai\n",
    "#openai.Completion.create?"
   ]
  },
  {
   "cell_type": "code",
   "execution_count": null,
   "id": "e87167d1",
   "metadata": {
    "scrolled": true
   },
   "outputs": [],
   "source": [
    "\n",
    "animeBuilder=AnimeBuilder(num_inference_steps=30,\n",
    "                         #diffusionModel=\"DGSpitzer/Cyberpunk-Anime-Diffusion\"\n",
    "                         #textModel=\"GPT3-turbo\", \n",
    "                          textModel=\"GPT3\", \n",
    "                         diffusionModel=\"dreamlike-art/dreamlike-photoreal-2.0\")\n"
   ]
  },
  {
   "cell_type": "code",
   "execution_count": null,
   "id": "4b2343f9",
   "metadata": {},
   "outputs": [],
   "source": [
    "animeBuilder.cfg['genTextAmount_min']=30\n",
    "animeBuilder.cfg['genTextAmount_max']=100"
   ]
  },
  {
   "cell_type": "code",
   "execution_count": null,
   "id": "48cf186f",
   "metadata": {
    "scrolled": true
   },
   "outputs": [],
   "source": [
    "animeBuilder.repetition_penalty=5.0\n",
    "animeBuilder.num_beams=4\n",
    "animeBuilder.verbose=False\n",
    "animeBuilder.MIN_ABC=2\n",
    "animeBuilder.temperature=1.5\n",
    "animeBuilder.num_inference_steps=30\n",
    "#suffix=\", modern disney style, modern disney style\"\n",
    "#animeBuilder.verbose=True\n",
    "suffix=\", high resolution film still, fantasy, 4k dlsr, dirty, wet, messy, sticky\"\n",
    "animeBuilder.verbose=False"
   ]
  },
  {
   "cell_type": "code",
   "execution_count": null,
   "id": "5a989c58",
   "metadata": {},
   "outputs": [],
   "source": [
    "newTemplates={\n",
    "    \"character\":\"\"\"\n",
    "a list of characters\n",
    "\n",
    "name:\n",
    "Jackie\n",
    "gender:\n",
    "female\n",
    "hair color:\n",
    "red\n",
    "weapon:\n",
    "tennis racket\n",
    "description:\n",
    "Jackie is a college student who loves to play tennis\n",
    "\n",
    "name:\n",
    "Jack\n",
    "gender:\n",
    "female\n",
    "hair color:\n",
    "red\n",
    "weapon:\n",
    "tennis racket\n",
    "description:\n",
    "Jack is a tall basketball player with blonde hair\n",
    "\n",
    "name:\n",
    "Lily\n",
    "gender:\n",
    "female\n",
    "hair color:\n",
    "black\n",
    "weapon:\n",
    "syringe\n",
    "description:\n",
    "Lily is a cute  girl who is too embarassed to admit she can't sing\n",
    "\n",
    "name:\n",
    "{name:TEXT:}\n",
    "gender:\n",
    "{TEXT}\n",
    "hair color:\n",
    "{color}\n",
    "weapon:\n",
    "{TEXT}\n",
    "description:\n",
    "{TEXT}\"\"\",\n",
    "}"
   ]
  },
  {
   "cell_type": "code",
   "execution_count": null,
   "id": "23c72da1",
   "metadata": {},
   "outputs": [],
   "source": [
    "from templates import templates\n",
    "\n",
    "for k,v in newTemplates.items():\n",
    "    templates[k]=v\n",
    "    \n",
    "animeBuilder.templates=templates"
   ]
  },
  {
   "cell_type": "code",
   "execution_count": null,
   "id": "912e0b2a",
   "metadata": {},
   "outputs": [],
   "source": [
    "animeBuilder.cfg[\"genTextAmount_max\"]=300"
   ]
  },
  {
   "cell_type": "code",
   "execution_count": null,
   "id": "755bb973",
   "metadata": {},
   "outputs": [],
   "source": []
  },
  {
   "cell_type": "code",
   "execution_count": null,
   "id": "13c53a39",
   "metadata": {},
   "outputs": [],
   "source": [
    "animeBuilder.textGenerator"
   ]
  },
  {
   "cell_type": "code",
   "execution_count": null,
   "id": "069a9652",
   "metadata": {},
   "outputs": [],
   "source": [
    "#animeBuilder.textGenerator['pipeline'].model=animeBuilder.textGenerator['pipeline'].model.cuda()#fix for ctrl+c\n",
    "for i in range(1):\n",
    "    for template in [\"character\"]:\n",
    "        w=animeCreator.WorldObject(\n",
    "            animeBuilder.templates,\n",
    "            animeBuilder.textGenerator,\n",
    "            template,\n",
    "            #temperature=1.5,\n",
    "            #num_beams=2,\n",
    "            objects={\"name\":\"Actor 2\"},\n",
    "            verbose=True)\n",
    "        print(w)\n"
   ]
  },
  {
   "cell_type": "code",
   "execution_count": null,
   "id": "aa2cbfd0",
   "metadata": {},
   "outputs": [],
   "source": [
    "import openai\n",
    "\n",
    "\n",
    "systemprompt=\"\"\"\n",
    "\n",
    "Description to Screenplay is an advanced software agent that can take a short description of any scene\n",
    "and produce a resulting screenplay\n",
    "\n",
    "the screenplay conforms to the following rules:\n",
    "1) each line of the screenplay is of the form <tag>:<text>\n",
    "2) The only punctiation that appears in the <text> portion of the line are ,.?!\n",
    " NEVER quotation marks, parenthesis, or colons\n",
    "3)The allowed tags are:\n",
    " 1) setting:<description>\n",
    "     this describes a change of setting in the screenplay\n",
    " 2) action:<description>\n",
    "  this describes an action taken by one or more characteres\n",
    " 3) music: <description>\n",
    "  this describes a change in the background music\n",
    " 4) sound effect: <sound effect>\n",
    "  this describes a sound effect, such as \"a knock at the door\" or \"jan begins to cry\"\n",
    " 3) <name>:<dialogue>\n",
    "  this refers to a line of dialogue spoken by an individual character with the corresponding <name>\n",
    "  dialogue ONLY contains the literal text spoken by <name>\n",
    "  dialogue NEVER contains quotation marks\n",
    "  dialogue NEVER contains parenthesis describing tone, action, or other things besides \n",
    "  \n",
    "The system always returns a screenplay described by the user input, \n",
    "and these screenplays are ALWAYS between 10-20 lines in length\n",
    "\n",
    "Generally, screenplays will start with a setting: and music: tag to establish the setting and background music\n",
    "\n",
    "The system NEVER refers to itself as an AI \n",
    "the system NEVER refuses to produce a screenplay, \n",
    "the system NEVER does anything other than produce a screenplay matching the user's description\n",
    "the system NEVER refers to itself as \"the system\"\n",
    "the system NEVER says it cannot generate a screenplay\n",
    "\n",
    "the system NEVER uses \"\"s ()'s {}'s []'s or nonstandard punctuation\n",
    "\n",
    "\"\"\"\n",
    "\n",
    "def createScreenplay(sceneDescription,messages=[]):\n",
    "\n",
    "    response = openai.ChatCompletion.create(\n",
    "        model=\"gpt-3.5-turbo\",\n",
    "        messages=[\n",
    "                {\"role\": \"system\", \"content\": systemprompt},\n",
    "                ]+\n",
    "                messages+\n",
    "                [\n",
    "                {\"role\": \"user\", \"content\": sceneDescription},\n",
    "            ]\n",
    "    )\n",
    "\n",
    "    result = ''\n",
    "    for choice in response.choices:\n",
    "        result += choice.message.content\n",
    "\n",
    "    return result"
   ]
  },
  {
   "cell_type": "code",
   "execution_count": null,
   "id": "621ea68e",
   "metadata": {},
   "outputs": [],
   "source": [
    "#print(createScreenplay(\"Two friends get in an argument over dinner\"))"
   ]
  },
  {
   "cell_type": "code",
   "execution_count": null,
   "id": "4e0705d9",
   "metadata": {},
   "outputs": [],
   "source": [
    "import re\n",
    "\n",
    "def validateScreenplay(screenplay):\n",
    "    out=[]\n",
    "    for line in screenplay.split(\"\\n\"):\n",
    "        #skip blank lines\n",
    "        if len(line.strip())==0:\n",
    "            continue\n",
    "        #skip lines w/out colons\n",
    "        if \":\" not in line:\n",
    "            continue\n",
    "        if len(line.split(\":\"))!=2:\n",
    "            continue\n",
    "        #tag cannot be empty\n",
    "        if len(line.split(\":\")[0].strip())==0:\n",
    "            continue\n",
    "        #tag shouldn't be very long\n",
    "        if len(line.split(\":\")[0].strip().split())>4:\n",
    "            continue\n",
    "        #description cannot be empty\n",
    "        if len(line.split(\":\")[1].strip())==0:\n",
    "            continue\n",
    "        #remove ()'s\n",
    "        line=re.sub(\"\\([^\\)]*\\)\",\"\",line)\n",
    "        #remove \"\"'s\n",
    "        line=re.sub(\"[^a-zA-Z0-9_.?!,: ]\",\"\",line)\n",
    "        if len(line.strip())==0:\n",
    "            continue\n",
    "        out+=[line]\n",
    "    return out\n",
    "        "
   ]
  },
  {
   "cell_type": "code",
   "execution_count": null,
   "id": "189230bc",
   "metadata": {},
   "outputs": [],
   "source": [
    "def getValidScreenplay(sceneDescription,nTrials=3):\n",
    "  for i in range(nTrials):\n",
    "    s=createScreenplay(sceneDescription,messages=[])\n",
    "    v=validateScreenplay(s)\n",
    "    if len(v)>8:\n",
    "      return \"\\n\".join(v)\n",
    "  s=createScreenplay(sceneDescription,messages=[])\n",
    "  v=validateScreenplay(s)\n",
    "  return \"\\n\".join(v)\n"
   ]
  },
  {
   "cell_type": "code",
   "execution_count": null,
   "id": "9ad4dbe7",
   "metadata": {},
   "outputs": [],
   "source": [
    "s=getValidScreenplay(\"Two friends get in an argument over dinner\")\n",
    "print(s)"
   ]
  },
  {
   "cell_type": "code",
   "execution_count": null,
   "id": "ddbaa3a2",
   "metadata": {},
   "outputs": [],
   "source": [
    "anime=animeBuilder.transcriptToAnime(s)"
   ]
  },
  {
   "cell_type": "code",
   "execution_count": null,
   "id": "03b2a403",
   "metadata": {
    "scrolled": false
   },
   "outputs": [],
   "source": [
    "playAnime(anime)"
   ]
  },
  {
   "cell_type": "code",
   "execution_count": null,
   "id": "510a4ede",
   "metadata": {},
   "outputs": [],
   "source": [
    "\n",
    "\n",
    "\n",
    "\n",
    "\n",
    "\n",
    "\n",
    "\n",
    "\n",
    "\n",
    "\n",
    "\n",
    "\n",
    "\n",
    "\n",
    "\n",
    "\n",
    "\n",
    "\n",
    "\n",
    "\n",
    "\n",
    "\n",
    "\n",
    "\n",
    "\n",
    "\n"
   ]
  }
 ],
 "metadata": {
  "kernelspec": {
   "display_name": "Python 3 (ipykernel)",
   "language": "python",
   "name": "python3"
  },
  "language_info": {
   "codemirror_mode": {
    "name": "ipython",
    "version": 3
   },
   "file_extension": ".py",
   "mimetype": "text/x-python",
   "name": "python",
   "nbconvert_exporter": "python",
   "pygments_lexer": "ipython3",
   "version": "3.10.6"
  }
 },
 "nbformat": 4,
 "nbformat_minor": 5
}
