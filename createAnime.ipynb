{
 "cells": [
  {
   "cell_type": "code",
   "execution_count": 1,
   "id": "90eb5bf4",
   "metadata": {},
   "outputs": [],
   "source": [
    "import ipywidgets as widgets\n",
    "from IPython.display import clear_output"
   ]
  },
  {
   "cell_type": "code",
   "execution_count": 2,
   "id": "319b1d1e",
   "metadata": {},
   "outputs": [],
   "source": [
    "import time"
   ]
  },
  {
   "cell_type": "code",
   "execution_count": 3,
   "id": "20a3f483",
   "metadata": {},
   "outputs": [
    {
     "name": "stderr",
     "output_type": "stream",
     "text": [
      "C:\\Users\\Nagol\\AppData\\Local\\Programs\\Python\\Python310\\lib\\site-packages\\scipy\\__init__.py:146: UserWarning: A NumPy version >=1.16.5 and <1.23.0 is required for this version of SciPy (detected version 1.23.4\n",
      "  warnings.warn(f\"A NumPy version >={np_minversion} and <{np_maxversion}\"\n",
      "2022-11-03 08:49:30 | INFO | fairseq.tasks.text_to_speech | Please install tensorboardX: pip install tensorboardX\n",
      "2022-11-03 08:49:31 | INFO | sentence_transformers.SentenceTransformer | Load pretrained SentenceTransformer: all-MiniLM-L6-v2\n",
      "2022-11-03 08:49:31 | INFO | sentence_transformers.SentenceTransformer | Use pytorch device: cuda\n"
     ]
    },
    {
     "data": {
      "application/vnd.jupyter.widget-view+json": {
       "model_id": "2a6a760f1cf7494ca27f522a7cfa6ab6",
       "version_major": 2,
       "version_minor": 0
      },
      "text/plain": [
       "Batches:   0%|          | 0/7 [00:00<?, ?it/s]"
      ]
     },
     "metadata": {},
     "output_type": "display_data"
    }
   ],
   "source": [
    "import animeCreator\n",
    "from animeCreator import AnimeBuilder"
   ]
  },
  {
   "cell_type": "code",
   "execution_count": 4,
   "id": "e87167d1",
   "metadata": {},
   "outputs": [
    {
     "name": "stdout",
     "output_type": "stream",
     "text": [
      "LOADING TEXT MODEL\n",
      "LOADING IMAGE MODEL\n"
     ]
    },
    {
     "data": {
      "application/vnd.jupyter.widget-view+json": {
       "model_id": "38fb7d21772348988f5cc57209a39138",
       "version_major": 2,
       "version_minor": 0
      },
      "text/plain": [
       "Fetching 15 files:   0%|          | 0/15 [00:00<?, ?it/s]"
      ]
     },
     "metadata": {},
     "output_type": "display_data"
    },
    {
     "name": "stdout",
     "output_type": "stream",
     "text": [
      "LOADING TTS MODEL\n"
     ]
    },
    {
     "data": {
      "application/vnd.jupyter.widget-view+json": {
       "model_id": "1931d87cadb546fd95fb927b1e0a0c4d",
       "version_major": 2,
       "version_minor": 0
      },
      "text/plain": [
       "Fetching 9 files:   0%|          | 0/9 [00:00<?, ?it/s]"
      ]
     },
     "metadata": {},
     "output_type": "display_data"
    },
    {
     "name": "stderr",
     "output_type": "stream",
     "text": [
      "2022-11-03 08:50:36 | INFO | fairseq.tasks.speech_to_text | dictionary size (vocab.txt): 74\n",
      "2022-11-03 08:50:36 | INFO | fairseq.models.text_to_speech.vocoder | loaded HiFiGAN checkpoint from C:/Users/Nagol/.cache/fairseq/models--facebook--fastspeech2-en-200_speaker-cv4/snapshots/e0218c23f36ee17ddef548a1ec04efe6ced9370c/hifigan.bin\n",
      "2022-11-03 08:50:36 | INFO | fairseq.models.text_to_speech.vocoder | loaded HiFiGAN checkpoint from C:/Users/Nagol/.cache/fairseq/models--facebook--fastspeech2-en-200_speaker-cv4/snapshots/e0218c23f36ee17ddef548a1ec04efe6ced9370c/hifigan.bin\n"
     ]
    }
   ],
   "source": [
    "animeBuilder=AnimeBuilder(num_inference_steps=30)"
   ]
  },
  {
   "cell_type": "code",
   "execution_count": 5,
   "id": "48cf186f",
   "metadata": {},
   "outputs": [],
   "source": [
    "animeBuilder.verbose=True"
   ]
  },
  {
   "cell_type": "code",
   "execution_count": 6,
   "id": "72ba3010",
   "metadata": {},
   "outputs": [],
   "source": [
    "def playAnime(w):\n",
    "\n",
    "    music = widgets.Output()    \n",
    "    image = widgets.Output()\n",
    "    speech = widgets.Output()\n",
    "    std = widgets.Output()\n",
    "    debug = widgets.Output()\n",
    "\n",
    "\n",
    "    display(debug)\n",
    "    display(image)\n",
    "    display(speech)\n",
    "    display(music)\n",
    "    display(std)\n",
    "\n",
    "\n",
    "    with std:\n",
    "        for output in w:\n",
    "            std.clear_output()#this clears the widgets too :/\n",
    "            if 'music' in output:\n",
    "                music.clear_output()\n",
    "                with music:\n",
    "                    display(output['music'])\n",
    "            if 'image' in output:\n",
    "                image.clear_output()\n",
    "                with image:\n",
    "                    display(output['image'])\n",
    "            if 'speech' in output:\n",
    "                speech.clear_output()\n",
    "                with speech:\n",
    "                    print(output['name'],\":\",output['dialogue'])\n",
    "                    display(output['speech'])                \n",
    "                time.sleep(output['duration'])\n",
    "            if 'debug' in output:\n",
    "                debug.clear_output()\n",
    "                with debug:\n",
    "                    print(output['debug'])\n",
    "\n",
    "\n"
   ]
  },
  {
   "cell_type": "code",
   "execution_count": 7,
   "id": "6c092f3b",
   "metadata": {},
   "outputs": [],
   "source": [
    "w=animeBuilder.watchAnime(    \n",
    "    synopsis=\"a hero who wants to be the strongest hero ever\",\n",
    "    character1=\"Kidd is an angsty teen boy with long black hair and glasses\",\n",
    "    subplot1=\"Kidd applies to the magic academy\",\n",
    "    scene1=\"taking the entrace exam\",    \n",
    "    promptSuffix=\"unreal engine, subsurface scattering\",\n",
    "    k=60           \n",
    "  )"
   ]
  },
  {
   "cell_type": "code",
   "execution_count": 8,
   "id": "c84ae2fe",
   "metadata": {},
   "outputs": [
    {
     "data": {
      "application/vnd.jupyter.widget-view+json": {
       "model_id": "e7e4d15bd09247f68faec7ff70a03b97",
       "version_major": 2,
       "version_minor": 0
      },
      "text/plain": [
       "Output()"
      ]
     },
     "metadata": {},
     "output_type": "display_data"
    },
    {
     "data": {
      "application/vnd.jupyter.widget-view+json": {
       "model_id": "6294db337b2e47d7a83fec735e647e53",
       "version_major": 2,
       "version_minor": 0
      },
      "text/plain": [
       "Output()"
      ]
     },
     "metadata": {},
     "output_type": "display_data"
    },
    {
     "data": {
      "application/vnd.jupyter.widget-view+json": {
       "model_id": "841cf3e1e0414de483efa39019321070",
       "version_major": 2,
       "version_minor": 0
      },
      "text/plain": [
       "Output()"
      ]
     },
     "metadata": {},
     "output_type": "display_data"
    },
    {
     "data": {
      "application/vnd.jupyter.widget-view+json": {
       "model_id": "af29794773064319a55af2cdc1535ad9",
       "version_major": 2,
       "version_minor": 0
      },
      "text/plain": [
       "Output()"
      ]
     },
     "metadata": {},
     "output_type": "display_data"
    },
    {
     "data": {
      "application/vnd.jupyter.widget-view+json": {
       "model_id": "6e3ad929b68e4b2dbfbd0660518e01af",
       "version_major": 2,
       "version_minor": 0
      },
      "text/plain": [
       "Output()"
      ]
     },
     "metadata": {},
     "output_type": "display_data"
    }
   ],
   "source": [
    "playAnime(w)"
   ]
  },
  {
   "cell_type": "code",
   "execution_count": null,
   "id": "6d94e305",
   "metadata": {},
   "outputs": [],
   "source": [
    "\n",
    "\n",
    "\n",
    "tokenizer = AutoTokenizer.from_pretrained(\n",
    "            self.textModel, torch_dtype=torch.float16)\n",
    "textModel = AutoModelForCausalLM.from_pretrained(\n",
    "    self.textModel, torch_dtype=torch.float16).to('cuda')\n",
    "\n",
    "textGenerator = {\n",
    "    'tokenizer': self.tokenizer,\n",
    "    'model': self.textModel\n",
    "}\n",
    "\n",
    "\n",
    "\n",
    "\n",
    "\n",
    "\n",
    "\n",
    "\n",
    "\n",
    "\n",
    "\n",
    "\n",
    "\n",
    "\n",
    "\n",
    "\n",
    "\n",
    "\n",
    "\n",
    "\n",
    "\n",
    "\n",
    "\n",
    "\n",
    "\n",
    "\n",
    "\n",
    "\n",
    "\n",
    "\n",
    "\n",
    "\n",
    "\n",
    "\n",
    "\n"
   ]
  }
 ],
 "metadata": {
  "kernelspec": {
   "display_name": "Python 3 (ipykernel)",
   "language": "python",
   "name": "python3"
  },
  "language_info": {
   "codemirror_mode": {
    "name": "ipython",
    "version": 3
   },
   "file_extension": ".py",
   "mimetype": "text/x-python",
   "name": "python",
   "nbconvert_exporter": "python",
   "pygments_lexer": "ipython3",
   "version": "3.10.8"
  }
 },
 "nbformat": 4,
 "nbformat_minor": 5
}
