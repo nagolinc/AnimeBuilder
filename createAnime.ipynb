{
 "cells": [
  {
   "cell_type": "code",
   "execution_count": 1,
   "id": "90eb5bf4",
   "metadata": {},
   "outputs": [],
   "source": [
    "import ipywidgets as widgets\n",
    "from IPython.display import clear_output"
   ]
  },
  {
   "cell_type": "code",
   "execution_count": 2,
   "id": "319b1d1e",
   "metadata": {},
   "outputs": [],
   "source": [
    "import time"
   ]
  },
  {
   "cell_type": "code",
   "execution_count": 3,
   "id": "20a3f483",
   "metadata": {},
   "outputs": [
    {
     "name": "stderr",
     "output_type": "stream",
     "text": [
      "C:\\Users\\Nagol\\AppData\\Local\\Programs\\Python\\Python310\\lib\\site-packages\\scipy\\__init__.py:146: UserWarning: A NumPy version >=1.16.5 and <1.23.0 is required for this version of SciPy (detected version 1.23.4\n",
      "  warnings.warn(f\"A NumPy version >={np_minversion} and <{np_maxversion}\"\n",
      "2022-11-02 18:53:29 | INFO | fairseq.tasks.text_to_speech | Please install tensorboardX: pip install tensorboardX\n"
     ]
    }
   ],
   "source": [
    "from animeCreator import AnimeBuilder"
   ]
  },
  {
   "cell_type": "code",
   "execution_count": 4,
   "id": "85eb815c",
   "metadata": {},
   "outputs": [
    {
     "name": "stdout",
     "output_type": "stream",
     "text": [
      "LOADING TEXT MODEL\n",
      "LOADING IMAGE MODEL\n"
     ]
    },
    {
     "data": {
      "application/vnd.jupyter.widget-view+json": {
       "model_id": "e1134e8393804e9399040a28f086d70e",
       "version_major": 2,
       "version_minor": 0
      },
      "text/plain": [
       "Fetching 15 files:   0%|          | 0/15 [00:00<?, ?it/s]"
      ]
     },
     "metadata": {},
     "output_type": "display_data"
    },
    {
     "name": "stdout",
     "output_type": "stream",
     "text": [
      "LOADING TTS MODEL\n"
     ]
    },
    {
     "data": {
      "application/vnd.jupyter.widget-view+json": {
       "model_id": "448104534cc440e98dc3b88ef8649858",
       "version_major": 2,
       "version_minor": 0
      },
      "text/plain": [
       "Fetching 9 files:   0%|          | 0/9 [00:00<?, ?it/s]"
      ]
     },
     "metadata": {},
     "output_type": "display_data"
    },
    {
     "name": "stderr",
     "output_type": "stream",
     "text": [
      "2022-11-02 18:54:28 | INFO | fairseq.tasks.speech_to_text | dictionary size (vocab.txt): 74\n",
      "2022-11-02 18:54:28 | INFO | fairseq.models.text_to_speech.vocoder | loaded HiFiGAN checkpoint from C:/Users/Nagol/.cache/fairseq/models--facebook--fastspeech2-en-200_speaker-cv4/snapshots/e0218c23f36ee17ddef548a1ec04efe6ced9370c/hifigan.bin\n",
      "2022-11-02 18:54:28 | INFO | fairseq.models.text_to_speech.vocoder | loaded HiFiGAN checkpoint from C:/Users/Nagol/.cache/fairseq/models--facebook--fastspeech2-en-200_speaker-cv4/snapshots/e0218c23f36ee17ddef548a1ec04efe6ced9370c/hifigan.bin\n"
     ]
    }
   ],
   "source": [
    "animeBuilder=AnimeBuilder()"
   ]
  },
  {
   "cell_type": "code",
   "execution_count": 9,
   "id": "6c092f3b",
   "metadata": {},
   "outputs": [],
   "source": [
    "w=animeBuilder.watchAnime(synopsis=\"a witch who defeats monsters using magic\",\n",
    "           subplot1=\"Misty joins an adventuring party\",\n",
    "           scene1=\" fighting a  big monster\",\n",
    "           character1=\"Misty is a witch with blue hair\",\n",
    "           promptSuffix=\"unreal engine, subsurface scattering\",\n",
    "           #promptSuffix=\"modern disney style\",\\\n",
    "           k=60           \n",
    "          )"
   ]
  },
  {
   "cell_type": "code",
   "execution_count": 10,
   "id": "72ba3010",
   "metadata": {},
   "outputs": [
    {
     "data": {
      "application/vnd.jupyter.widget-view+json": {
       "model_id": "1dbaf247b03848a19135f1cf47acd3af",
       "version_major": 2,
       "version_minor": 0
      },
      "text/plain": [
       "Output()"
      ]
     },
     "metadata": {},
     "output_type": "display_data"
    },
    {
     "data": {
      "application/vnd.jupyter.widget-view+json": {
       "model_id": "ff87b2b62c704dc49188db767835f632",
       "version_major": 2,
       "version_minor": 0
      },
      "text/plain": [
       "Output()"
      ]
     },
     "metadata": {},
     "output_type": "display_data"
    },
    {
     "data": {
      "application/vnd.jupyter.widget-view+json": {
       "model_id": "a417b9d46fae414cab2346076de39d8b",
       "version_major": 2,
       "version_minor": 0
      },
      "text/plain": [
       "Output()"
      ]
     },
     "metadata": {},
     "output_type": "display_data"
    },
    {
     "data": {
      "application/vnd.jupyter.widget-view+json": {
       "model_id": "9a4b18f15fcf4c5ba7ef7720a84847f4",
       "version_major": 2,
       "version_minor": 0
      },
      "text/plain": [
       "Output()"
      ]
     },
     "metadata": {},
     "output_type": "display_data"
    },
    {
     "data": {
      "application/vnd.jupyter.widget-view+json": {
       "model_id": "4192d679b3c845f19feedee340e44556",
       "version_major": 2,
       "version_minor": 0
      },
      "text/plain": [
       "Output()"
      ]
     },
     "metadata": {},
     "output_type": "display_data"
    }
   ],
   "source": [
    "music = widgets.Output()    \n",
    "image = widgets.Output()\n",
    "speech = widgets.Output()\n",
    "std = widgets.Output()\n",
    "debug = widgets.Output()\n",
    "\n",
    "\n",
    "display(debug)\n",
    "display(image)\n",
    "display(speech)\n",
    "display(music)\n",
    "display(std)\n",
    "\n",
    "\n",
    "with std:\n",
    "    for output in w:\n",
    "        std.clear_output()#this clears the widgets too :/\n",
    "        if 'music' in output:\n",
    "            music.clear_output()\n",
    "            with music:\n",
    "                display(output['music'])\n",
    "        if 'image' in output:\n",
    "            image.clear_output()\n",
    "            with image:\n",
    "                display(output['image'])\n",
    "        if 'speech' in output:\n",
    "            speech.clear_output()\n",
    "            with speech:\n",
    "                print(output['name'],\":\",output['dialogue'])\n",
    "                display(output['speech'])                \n",
    "            time.sleep(output['duration'])\n",
    "        if 'debug' in output:\n",
    "            debug.clear_output()\n",
    "            with debug:\n",
    "                print(output['debug'])\n",
    "            \n",
    "\n"
   ]
  },
  {
   "cell_type": "code",
   "execution_count": null,
   "id": "c82fbc1b",
   "metadata": {},
   "outputs": [],
   "source": [
    "\n",
    "\n",
    "\n",
    "\n",
    "\n",
    "\n",
    "\n",
    "\n",
    "\n",
    "\n",
    "\n",
    "\n",
    "\n",
    "\n",
    "\n",
    "\n",
    "\n",
    "\n",
    "\n",
    "\n",
    "\n",
    "\n",
    "\n",
    "\n",
    "\n",
    "\n",
    "\n",
    "\n",
    "\n",
    "\n",
    "\n",
    "\n",
    "\n",
    "\n",
    "\n",
    "\n",
    "\n",
    "\n",
    "\n",
    "\n",
    "\n",
    "\n",
    "\n",
    "\n",
    "\n",
    "\n",
    "\n"
   ]
  }
 ],
 "metadata": {
  "kernelspec": {
   "display_name": "Python 3 (ipykernel)",
   "language": "python",
   "name": "python3"
  },
  "language_info": {
   "codemirror_mode": {
    "name": "ipython",
    "version": 3
   },
   "file_extension": ".py",
   "mimetype": "text/x-python",
   "name": "python",
   "nbconvert_exporter": "python",
   "pygments_lexer": "ipython3",
   "version": "3.10.8"
  }
 },
 "nbformat": 4,
 "nbformat_minor": 5
}
