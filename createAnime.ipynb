{
 "cells": [
  {
   "cell_type": "code",
   "execution_count": 1,
   "id": "90eb5bf4",
   "metadata": {
    "scrolled": true
   },
   "outputs": [],
   "source": [
    "import ipywidgets as widgets\n",
    "from IPython.display import clear_output"
   ]
  },
  {
   "cell_type": "code",
   "execution_count": 2,
   "id": "319b1d1e",
   "metadata": {
    "scrolled": true
   },
   "outputs": [],
   "source": [
    "import time"
   ]
  },
  {
   "cell_type": "code",
   "execution_count": 3,
   "id": "20a3f483",
   "metadata": {
    "scrolled": true
   },
   "outputs": [
    {
     "name": "stderr",
     "output_type": "stream",
     "text": [
      "C:\\Users\\Nagol\\AppData\\Local\\Programs\\Python\\Python310\\lib\\site-packages\\scipy\\__init__.py:146: UserWarning: A NumPy version >=1.16.5 and <1.23.0 is required for this version of SciPy (detected version 1.23.4\n",
      "  warnings.warn(f\"A NumPy version >={np_minversion} and <{np_maxversion}\"\n",
      "2022-11-12 15:42:11 | INFO | fairseq.tasks.text_to_speech | Please install tensorboardX: pip install tensorboardX\n",
      "2022-11-12 15:42:11 | WARNING | xformers | Triton is not available, some optimizations will not be enabled.\n",
      "This is just a warning: No module named 'triton'\n",
      "2022-11-12 15:42:11 | WARNING | xformers | A matching Triton is not available, some optimizations will not be enabled.\n",
      "Error caught was: No module named 'triton'\n",
      "2022-11-12 15:42:11 | INFO | sentence_transformers.SentenceTransformer | Load pretrained SentenceTransformer: all-MiniLM-L6-v2\n",
      "2022-11-12 15:42:11 | INFO | sentence_transformers.SentenceTransformer | Use pytorch device: cuda\n"
     ]
    },
    {
     "data": {
      "application/vnd.jupyter.widget-view+json": {
       "model_id": "44ebd1e7635842628b0b0b1980ca75d7",
       "version_major": 2,
       "version_minor": 0
      },
      "text/plain": [
       "Batches:   0%|          | 0/7 [00:00<?, ?it/s]"
      ]
     },
     "metadata": {},
     "output_type": "display_data"
    }
   ],
   "source": [
    "import animeCreator\n",
    "from animeCreator import AnimeBuilder"
   ]
  },
  {
   "cell_type": "code",
   "execution_count": null,
   "id": "802153af",
   "metadata": {},
   "outputs": [],
   "source": [
    "def playAnime(w,supressStd=False):\n",
    "\n",
    "    music = widgets.Output()    \n",
    "    image = widgets.Output()\n",
    "    speech = widgets.Output()\n",
    "    #std = widgets.Output()\n",
    "    debug = widgets.Output()\n",
    "\n",
    "\n",
    "    display(debug)\n",
    "    display(image)\n",
    "    display(speech)\n",
    "    display(music)\n",
    "    #display(std)\n",
    "\n",
    "    lastMusic=None\n",
    "\n",
    "    #with std:\n",
    "    if True:\n",
    "        for output in w:\n",
    "            if supressStd==True:\n",
    "                std.clear_output()#this clears the widgets too :/\n",
    "            if 'music' in output:\n",
    "                if lastMusic is not None:\n",
    "                    print(\"stopping\")\n",
    "                    lastMusic.close()\n",
    "                    \n",
    "                music.clear_output()\n",
    "                #with music:\n",
    "                lastMusic=output['music']                \n",
    "                display(lastMusic)\n",
    "            if 'image' in output:\n",
    "                image.clear_output()\n",
    "                with image:\n",
    "                    display(output['image'])\n",
    "            if 'speech' in output:\n",
    "                speech.clear_output()\n",
    "                with speech:\n",
    "                    print(output['name'],\":\",output['dialogue'])\n",
    "                    display(output['speech'])                \n",
    "                time.sleep(output['duration'])\n",
    "            if 'debug' in output:\n",
    "                debug.clear_output()\n",
    "                with debug:\n",
    "                    print(output['debug'])\n"
   ]
  },
  {
   "cell_type": "code",
   "execution_count": 4,
   "id": "e87167d1",
   "metadata": {
    "scrolled": true
   },
   "outputs": [
    {
     "name": "stdout",
     "output_type": "stream",
     "text": [
      "LOADING TEXT MODEL\n",
      "LOADING IMAGE MODEL\n"
     ]
    },
    {
     "data": {
      "application/vnd.jupyter.widget-view+json": {
       "model_id": "22946664b3294ac1b9d7230f26061872",
       "version_major": 2,
       "version_minor": 0
      },
      "text/plain": [
       "Downloading:   0%|          | 0.00/284 [00:00<?, ?B/s]"
      ]
     },
     "metadata": {},
     "output_type": "display_data"
    },
    {
     "data": {
      "application/vnd.jupyter.widget-view+json": {
       "model_id": "1cfb2350a89047cf8999d7d7d2e697a1",
       "version_major": 2,
       "version_minor": 0
      },
      "text/plain": [
       "Fetching 15 files:   0%|          | 0/15 [00:00<?, ?it/s]"
      ]
     },
     "metadata": {},
     "output_type": "display_data"
    },
    {
     "name": "stdout",
     "output_type": "stream",
     "text": [
      "LOADING TTS MODEL\n"
     ]
    },
    {
     "data": {
      "application/vnd.jupyter.widget-view+json": {
       "model_id": "af61326ceea1440fa16c2f65300fd412",
       "version_major": 2,
       "version_minor": 0
      },
      "text/plain": [
       "Fetching 9 files:   0%|          | 0/9 [00:00<?, ?it/s]"
      ]
     },
     "metadata": {},
     "output_type": "display_data"
    },
    {
     "name": "stderr",
     "output_type": "stream",
     "text": [
      "2022-11-12 15:43:03 | INFO | fairseq.tasks.speech_to_text | dictionary size (vocab.txt): 74\n",
      "2022-11-12 15:43:03 | INFO | fairseq.models.text_to_speech.vocoder | loaded HiFiGAN checkpoint from C:/Users/Nagol/.cache/fairseq/models--facebook--fastspeech2-en-200_speaker-cv4/snapshots/e0218c23f36ee17ddef548a1ec04efe6ced9370c/hifigan.bin\n",
      "2022-11-12 15:43:03 | INFO | fairseq.models.text_to_speech.vocoder | loaded HiFiGAN checkpoint from C:/Users/Nagol/.cache/fairseq/models--facebook--fastspeech2-en-200_speaker-cv4/snapshots/e0218c23f36ee17ddef548a1ec04efe6ced9370c/hifigan.bin\n"
     ]
    }
   ],
   "source": [
    "animeBuilder=AnimeBuilder(num_inference_steps=30,\n",
    "                         #diffusionModel=\"DGSpitzer/Cyberpunk-Anime-Diffusion\"\n",
    "                         diffusionModel=\"nitrosocke/mo-di-diffusion\")\n",
    "#suffix=\" in dgs illustration style\"\n",
    "suffix=\" in modern disney style\"\n"
   ]
  },
  {
   "cell_type": "code",
   "execution_count": 5,
   "id": "5a989c58",
   "metadata": {},
   "outputs": [],
   "source": [
    "templates={\n",
    "    \"character\":\"\"\"\n",
    "create a list of characters and their attributes\n",
    "\n",
    "name:\n",
    "Joe\n",
    "gender:\n",
    "male\n",
    "hair color:\n",
    "red\n",
    "weapon:\n",
    "tennis racket\n",
    "description:\n",
    "Joe is a magic prince who lives in a castle\n",
    "\n",
    "name:\n",
    "Lily\n",
    "gender:\n",
    "female\n",
    "hair color:\n",
    "black\n",
    "weapon:\n",
    "syringe\n",
    "description:\n",
    "Lily is a cute princess who rides a unicorn\n",
    "\n",
    "name:\n",
    "{TEXT}\n",
    "gender:\n",
    "{TEXT}\n",
    "hair color:\n",
    "{color}\n",
    "weapon:\n",
    "{TEXT}\n",
    "description:\n",
    "{TEXT}\"\"\",\n",
    "    \"visit castle\":\"\"\"\n",
    "write a short screenplay\n",
    "\n",
    "character1:\n",
    "{character1}\n",
    "character2:\n",
    "{character2}\n",
    "plot summary:\n",
    "{character1.name} stars in this anime about {story synopsis:TEXT:}\n",
    "subplot:\n",
    "{subplot:TEXT:}\n",
    "scene 1:\n",
    "{previous.scene 2:TEXT:}\n",
    "scene 2:\n",
    "{previous.scene 3:TEXT:}\n",
    "scene 3:\n",
    "{character1.name} visits {character2.name}'s castle and {scene 3 text:TEXT:}\n",
    "scene 3 line 1 text:\n",
    "Wow, this castle is so {TEXT}\n",
    "\"\"\",\n",
    "}"
   ]
  },
  {
   "cell_type": "code",
   "execution_count": 6,
   "id": "23c72da1",
   "metadata": {},
   "outputs": [],
   "source": [
    "from templates import templates\n",
    "\n",
    "for k,v in newTemplates.items():\n",
    "    templates[k]=v"
   ]
  },
  {
   "cell_type": "code",
   "execution_count": 8,
   "id": "4dd6b88c",
   "metadata": {},
   "outputs": [],
   "source": [
    "animeBuilder.advanceSceneObjects = [\n",
    "                {\n",
    "                    \"object\": \"advancePlot\",\n",
    "                    \"whichScene\": 3,\n",
    "                    \"numScenes\": 3,\n",
    "                },\n",
    "                {\n",
    "                    \"object\": \"fightScene\",\n",
    "                    \"whichScene\": 1,\n",
    "                    \"numScenes\": 3,\n",
    "                },\n",
    "                {\n",
    "                    \"object\": \"visit castle\",\n",
    "                    \"whichScene\": 3,\n",
    "                    \"numScenes\": 3,\n",
    "                },\n",
    "            ]"
   ]
  },
  {
   "cell_type": "code",
   "execution_count": 9,
   "id": "48cf186f",
   "metadata": {
    "scrolled": true
   },
   "outputs": [],
   "source": [
    "animeBuilder.repetition_penalty=5.0\n",
    "animeBuilder.num_beams=4\n",
    "animeBuilder.verbose=False\n",
    "animeBuilder.MIN_ABC=2\n",
    "animeBuilder.temperature=1.5\n",
    "animeBuilder.num_inference_steps=30\n",
    "#suffix=\", modern disney style, modern disney style\"\n",
    "#animeBuilder.verbose=True\n",
    "suffix=\", high resolution film still, fantasy, 4k dlsr, dirty, wet, messy, sticky\"\n",
    "animeBuilder.verbose=False"
   ]
  },
  {
   "cell_type": "code",
   "execution_count": 11,
   "id": "6c092f3b",
   "metadata": {
    "scrolled": true
   },
   "outputs": [],
   "source": [
    "w=animeBuilder.watchAnime(    \n",
    "    synopsis=\"a hero who wants to be the strongest hero ever\",\n",
    "    character1=\"Kidd is an angsty teen boy with long black hair and glasses\",\n",
    "    subplot1=\"Kidd applies to the magic academy\",\n",
    "    scene1=\"taking the entrace exam\",    \n",
    "    promptSuffix=\"unreal engine, subsurface scattering\",\n",
    "    k=60           \n",
    "  )"
   ]
  },
  {
   "cell_type": "code",
   "execution_count": 12,
   "id": "c84ae2fe",
   "metadata": {
    "scrolled": false
   },
   "outputs": [
    {
     "data": {
      "application/vnd.jupyter.widget-view+json": {
       "model_id": "5f421b1edfaa4345988b922c66242c78",
       "version_major": 2,
       "version_minor": 0
      },
      "text/plain": [
       "Output()"
      ]
     },
     "metadata": {},
     "output_type": "display_data"
    },
    {
     "data": {
      "application/vnd.jupyter.widget-view+json": {
       "model_id": "e12cb6cf969e4ebbbd062c29e5b31026",
       "version_major": 2,
       "version_minor": 0
      },
      "text/plain": [
       "Output()"
      ]
     },
     "metadata": {},
     "output_type": "display_data"
    },
    {
     "data": {
      "application/vnd.jupyter.widget-view+json": {
       "model_id": "0a07347554734cb2ab9b8335bb04c8d5",
       "version_major": 2,
       "version_minor": 0
      },
      "text/plain": [
       "Output()"
      ]
     },
     "metadata": {},
     "output_type": "display_data"
    },
    {
     "data": {
      "application/vnd.jupyter.widget-view+json": {
       "model_id": "513bf95466c0492f8e5cf8b7df9978cb",
       "version_major": 2,
       "version_minor": 0
      },
      "text/plain": [
       "Output()"
      ]
     },
     "metadata": {},
     "output_type": "display_data"
    },
    {
     "data": {
      "application/vnd.jupyter.widget-view+json": {
       "model_id": "9187095ce78f4313b6148aeeefef99e6",
       "version_major": 2,
       "version_minor": 0
      },
      "text/plain": [
       "Output()"
      ]
     },
     "metadata": {},
     "output_type": "display_data"
    }
   ],
   "source": [
    "playAnime(w)"
   ]
  },
  {
   "cell_type": "code",
   "execution_count": null,
   "id": "57eaa6aa",
   "metadata": {
    "scrolled": true
   },
   "outputs": [],
   "source": [
    "\n",
    "\n",
    "\n",
    "\n",
    "\n",
    "\n",
    "\n",
    "\n",
    "\n",
    "\n",
    "\n",
    "\n",
    "\n",
    "\n",
    "\n",
    "\n",
    "\n",
    "\n",
    "\n",
    "\n",
    "\n",
    "\n"
   ]
  },
  {
   "cell_type": "code",
   "execution_count": null,
   "id": "e8cecddc",
   "metadata": {
    "scrolled": true
   },
   "outputs": [],
   "source": [
    "from animeCreator import ListObject"
   ]
  },
  {
   "cell_type": "code",
   "execution_count": null,
   "id": "ce3e1694",
   "metadata": {
    "scrolled": true
   },
   "outputs": [],
   "source": [
    "characters=ListObject(templates,animeBuilder.textGenerator,\"character\",10,uniqueKey=\"name\",cfg=animeBuilder.cfg)"
   ]
  }
 ],
 "metadata": {
  "kernelspec": {
   "display_name": "Python 3 (ipykernel)",
   "language": "python",
   "name": "python3"
  },
  "language_info": {
   "codemirror_mode": {
    "name": "ipython",
    "version": 3
   },
   "file_extension": ".py",
   "mimetype": "text/x-python",
   "name": "python",
   "nbconvert_exporter": "python",
   "pygments_lexer": "ipython3",
   "version": "3.10.8"
  }
 },
 "nbformat": 4,
 "nbformat_minor": 5
}
